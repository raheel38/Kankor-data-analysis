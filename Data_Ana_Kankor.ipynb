{
 "cells": [
  {
   "cell_type": "markdown",
   "id": "6e513e9c",
   "metadata": {},
   "source": [
    "# Kabul is the most demanded city for higher education\n",
    "\n",
    "\n",
    "\n",
    "     [웹/파이썬프로그래밍] 컴퓨터공학과 2022100302 AHMADI RAHILA"
   ]
  },
  {
   "cell_type": "markdown",
   "id": "af6df190",
   "metadata": {},
   "source": [
    "### (1)  Reason for this topic selection "
   ]
  },
  {
   "cell_type": "markdown",
   "id": "4f0f74c3",
   "metadata": {},
   "source": [
    "Annually there are lots of high school students all around Afghanistan preparing for pre university Examination called Kankor.\n",
    "Passing this Examination will cover all expenses of undergraduate studies. Since this Examination is one of the most important Exam among young generation, I was always curious about it. On the other hand, there is not much data being analyzed and give more information about it.\n",
    "\n",
    "Kabul has the most participants and demand of study is more than other cities, but there isn't any data being analyzed in the internet to show and analyze each city’s participants and the number of male and female participants.\n",
    "\n",
    "As females in Afghanistan have less opportunity to continue their higher education due to the conservativeness of society in each city so by analyzing this data I wanted to make it more clear about the female participants in kabul and 4 more big cities. Additionally, I wanted to focus more on the capital city because it is the most important city and kabul is the first choice of most students.\n"
   ]
  },
  {
   "cell_type": "markdown",
   "id": "c0c79d64",
   "metadata": {},
   "source": [
    "### (2) Definition of hypothesis"
   ]
  },
  {
   "cell_type": "markdown",
   "id": "0c08f036",
   "metadata": {},
   "source": [
    "Kabul is a city that has the most participants and demand of pursuing higher education is more than other cities."
   ]
  },
  {
   "cell_type": "markdown",
   "id": "5aa398bc",
   "metadata": {},
   "source": [
    "### (3) Data Acquisition via Internet"
   ]
  },
  {
   "cell_type": "markdown",
   "id": "cd74e4f5",
   "metadata": {},
   "source": [
    "As Afghanistan does not have open API I got the dataset from the following website\n",
    "https://kankorafghanistanexcel.blogspot.com/"
   ]
  },
  {
   "cell_type": "markdown",
   "id": "72b6b642",
   "metadata": {},
   "source": [
    "### (4) Processing Data for Analysis \n",
    "Through the below process, top ten students is being shown in which 7 out of 10 is from kabul, male and female participants is being shown at the graph,the number of participants in each city is being compared to kabul, male and female participants is being compared in 5 big cities and total average of 2021 Examination is being shown  \n",
    " I am comparing the data with graph to show and compare each city's data \n",
    "I imported 'matplotlib.pyplot' to use the graph"
   ]
  },
  {
   "cell_type": "code",
   "execution_count": 1,
   "id": "57eb6fdf",
   "metadata": {},
   "outputs": [],
   "source": [
    "\n",
    "import matplotlib\n",
    "import pandas as pd\n",
    "import matplotlib.pyplot as plot\n",
    "col_names=[\n",
    "    'ID','Name','Father Name','Grandfather Name','School', 'ResultNo', 'AcceptedUniversity','City','Gender'\n",
    "]"
   ]
  },
  {
   "cell_type": "code",
   "execution_count": 2,
   "id": "1e0ad28d",
   "metadata": {},
   "outputs": [],
   "source": [
    "df = pd.read_csv('KankorDB.csv',names = col_names, low_memory=False ,skiprows=[0])"
   ]
  },
  {
   "cell_type": "code",
   "execution_count": 3,
   "id": "36546b61",
   "metadata": {},
   "outputs": [],
   "source": [
    "#Variable names' exchanging from Persion to English\n",
    "MaleInPersion= 'ذکور'\n",
    "FemaleInPersion= 'اناث'\n",
    "Kabul='کابل'\n",
    "Kandahar='کندهار'\n",
    "Herat='هرات'\n",
    "Balkh='بلخ'\n",
    "Kundoz='کندز'\n",
    "Nangarhar='ننگرهار'\n",
    "Takhar='تخار'\n",
    "Baghlan='بغلان'\n",
    "Parwan='پروان'\n",
    "Helmand='هلمند'\n",
    "Jawozjan='جوزجان'\n",
    "Ghazni='غزني'\n",
    "Khost='خوست'\n",
    "SarEpol='سرپل'\n",
    "Ghor='غور'\n",
    "Laghman='لغمان'\n",
    "Farah='فراه'\n",
    "Logar='لوگر'\n",
    "Bamiyan='باميان'\n",
    "Daikundi='دايکندی'\n",
    "Kapisa='کاپيسا'\n",
    "MaidanWardak='ميدان وردگ'\n",
    "Fariyab='فارياب'\n",
    "Samangan='سمنگان'\n",
    "Paktia='پکتيا'\n",
    "Badakhshan='بدخشان'\n",
    "Zabul='زابل'\n",
    "Panjsher='پنجشير'\n",
    "Badghis='بادغيس'\n",
    "Nimroz='نيمروز'\n",
    "Paktika='پکتيکا'\n",
    "Konar='کنر'\n",
    "Urzogan='ارزگان'\n",
    "Nuristan='نورستان'"
   ]
  },
  {
   "cell_type": "markdown",
   "id": "40476a21",
   "metadata": {},
   "source": [
    "Top ten of Afghanistan's Kankor Examination of 2021"
   ]
  },
  {
   "cell_type": "code",
   "execution_count": 4,
   "id": "cc6d2933",
   "metadata": {
    "scrolled": true
   },
   "outputs": [
    {
     "data": {
      "text/html": [
       "<div>\n",
       "<style scoped>\n",
       "    .dataframe tbody tr th:only-of-type {\n",
       "        vertical-align: middle;\n",
       "    }\n",
       "\n",
       "    .dataframe tbody tr th {\n",
       "        vertical-align: top;\n",
       "    }\n",
       "\n",
       "    .dataframe thead th {\n",
       "        text-align: right;\n",
       "    }\n",
       "</style>\n",
       "<table border=\"1\" class=\"dataframe\">\n",
       "  <thead>\n",
       "    <tr style=\"text-align: right;\">\n",
       "      <th></th>\n",
       "      <th>ID</th>\n",
       "      <th>Name</th>\n",
       "      <th>Father Name</th>\n",
       "      <th>Grandfather Name</th>\n",
       "      <th>School</th>\n",
       "      <th>ResultNo</th>\n",
       "      <th>AcceptedUniversity</th>\n",
       "      <th>City</th>\n",
       "      <th>Gender</th>\n",
       "    </tr>\n",
       "  </thead>\n",
       "  <tbody>\n",
       "    <tr>\n",
       "      <th>0</th>\n",
       "      <td>N01024168</td>\n",
       "      <td>سلگی</td>\n",
       "      <td>موسی خان</td>\n",
       "      <td>محمد</td>\n",
       "      <td>محمداکبرخان پامير</td>\n",
       "      <td>352.575</td>\n",
       "      <td>دیپارتمنت عمومی (اناث) پوهنځی طب پوهنتون علوم ...</td>\n",
       "      <td>کابل</td>\n",
       "      <td>اناث</td>\n",
       "    </tr>\n",
       "    <tr>\n",
       "      <th>1</th>\n",
       "      <td>N01054110</td>\n",
       "      <td>احسام الدین</td>\n",
       "      <td>کرام الدین</td>\n",
       "      <td>فضل الدین</td>\n",
       "      <td>ميرغلام محمدغبار</td>\n",
       "      <td>352.533</td>\n",
       "      <td>دیپارتمنت عمومی (ذکور) پوهنځی طب پوهنتون علوم ...</td>\n",
       "      <td>کابل</td>\n",
       "      <td>ذکور</td>\n",
       "    </tr>\n",
       "    <tr>\n",
       "      <th>2</th>\n",
       "      <td>N01000232</td>\n",
       "      <td>ثناوالله</td>\n",
       "      <td>بسم الله</td>\n",
       "      <td>بابه ملا</td>\n",
       "      <td>حبيبيه</td>\n",
       "      <td>350.800</td>\n",
       "      <td>دیپارتمنت عمومی (ذکور) پوهنځی طب پوهنتون علوم ...</td>\n",
       "      <td>کابل</td>\n",
       "      <td>ذکور</td>\n",
       "    </tr>\n",
       "    <tr>\n",
       "      <th>3</th>\n",
       "      <td>N01043838</td>\n",
       "      <td>صدام</td>\n",
       "      <td>اول سید</td>\n",
       "      <td>سیداحمد</td>\n",
       "      <td>غازي ادي</td>\n",
       "      <td>349.483</td>\n",
       "      <td>دیپارتمنت عمومی (ذکور) پوهنځی طب پوهنتون علوم ...</td>\n",
       "      <td>کابل</td>\n",
       "      <td>ذکور</td>\n",
       "    </tr>\n",
       "    <tr>\n",
       "      <th>4</th>\n",
       "      <td>N24010416</td>\n",
       "      <td>ارشاد</td>\n",
       "      <td>عبدالکریم</td>\n",
       "      <td>حاجی عبدالظاهر</td>\n",
       "      <td>انقلاب اسلامي</td>\n",
       "      <td>347.780</td>\n",
       "      <td>دیپارتمنت عمومی (ذکور) پوهنځی طب معالجوی پوهنت...</td>\n",
       "      <td>هرات</td>\n",
       "      <td>ذکور</td>\n",
       "    </tr>\n",
       "    <tr>\n",
       "      <th>5</th>\n",
       "      <td>N01005224</td>\n",
       "      <td>محمدمنصور</td>\n",
       "      <td>نصیراحمد</td>\n",
       "      <td>سردارمحمد</td>\n",
       "      <td>محمداسماعیل حسن زی</td>\n",
       "      <td>347.562</td>\n",
       "      <td>دیپارتمنت سیول (ذکور) پوهنځی انجنیری پوهنتون کابل</td>\n",
       "      <td>کابل</td>\n",
       "      <td>ذکور</td>\n",
       "    </tr>\n",
       "    <tr>\n",
       "      <th>6</th>\n",
       "      <td>N07003418</td>\n",
       "      <td>سیدمرتضی</td>\n",
       "      <td>سیدجواد</td>\n",
       "      <td>سیداحمدجان</td>\n",
       "      <td>امام قايم بکاول</td>\n",
       "      <td>347.559</td>\n",
       "      <td>دیپارتمنت عمومی (ذکور) پوهنځی طب پوهنتون علوم ...</td>\n",
       "      <td>غزني</td>\n",
       "      <td>ذکور</td>\n",
       "    </tr>\n",
       "    <tr>\n",
       "      <th>7</th>\n",
       "      <td>N01013442</td>\n",
       "      <td>بی بی مریم</td>\n",
       "      <td>سید میران</td>\n",
       "      <td>سید اسمعیل</td>\n",
       "      <td>صوفی محمداسلام مین</td>\n",
       "      <td>347.383</td>\n",
       "      <td>دیپارتمنت عمومی (اناث) پوهنځی طب پوهنتون علوم ...</td>\n",
       "      <td>کابل</td>\n",
       "      <td>اناث</td>\n",
       "    </tr>\n",
       "    <tr>\n",
       "      <th>8</th>\n",
       "      <td>N01022233</td>\n",
       "      <td>مصطفی</td>\n",
       "      <td>محمد جواد</td>\n",
       "      <td>سلطان حسین</td>\n",
       "      <td>همـــــايون شهيد</td>\n",
       "      <td>347.266</td>\n",
       "      <td>دیپارتمنت عمومی (ذکور) پوهنځی طب پوهنتون علوم ...</td>\n",
       "      <td>کابل</td>\n",
       "      <td>ذکور</td>\n",
       "    </tr>\n",
       "    <tr>\n",
       "      <th>9</th>\n",
       "      <td>N19011372</td>\n",
       "      <td>حسنیه</td>\n",
       "      <td>محمدهادی</td>\n",
       "      <td>برات علی</td>\n",
       "      <td>صلح نمیر 2 مزاري</td>\n",
       "      <td>346.078</td>\n",
       "      <td>دیپارتمنت عمومی (اناث) پوهنځی طب پوهنتون علوم ...</td>\n",
       "      <td>بلخ</td>\n",
       "      <td>اناث</td>\n",
       "    </tr>\n",
       "  </tbody>\n",
       "</table>\n",
       "</div>"
      ],
      "text/plain": [
       "          ID         Name Father Name Grandfather Name              School  \\\n",
       "0  N01024168         سلگی    موسی خان             محمد   محمداکبرخان پامير   \n",
       "1  N01054110  احسام الدین  کرام الدین        فضل الدین    ميرغلام محمدغبار   \n",
       "2  N01000232     ثناوالله    بسم الله         بابه ملا              حبيبيه   \n",
       "3  N01043838         صدام     اول سید          سیداحمد            غازي ادي   \n",
       "4  N24010416        ارشاد   عبدالکریم   حاجی عبدالظاهر       انقلاب اسلامي   \n",
       "5  N01005224    محمدمنصور    نصیراحمد        سردارمحمد  محمداسماعیل حسن زی   \n",
       "6  N07003418     سیدمرتضی     سیدجواد       سیداحمدجان     امام قايم بکاول   \n",
       "7  N01013442   بی بی مریم   سید میران       سید اسمعیل  صوفی محمداسلام مین   \n",
       "8  N01022233        مصطفی   محمد جواد       سلطان حسین    همـــــايون شهيد   \n",
       "9  N19011372        حسنیه    محمدهادی         برات علی    صلح نمیر 2 مزاري   \n",
       "\n",
       "   ResultNo                                 AcceptedUniversity  City Gender  \n",
       "0   352.575  دیپارتمنت عمومی (اناث) پوهنځی طب پوهنتون علوم ...  کابل   اناث  \n",
       "1   352.533  دیپارتمنت عمومی (ذکور) پوهنځی طب پوهنتون علوم ...  کابل   ذکور  \n",
       "2   350.800  دیپارتمنت عمومی (ذکور) پوهنځی طب پوهنتون علوم ...  کابل   ذکور  \n",
       "3   349.483  دیپارتمنت عمومی (ذکور) پوهنځی طب پوهنتون علوم ...  کابل   ذکور  \n",
       "4   347.780  دیپارتمنت عمومی (ذکور) پوهنځی طب معالجوی پوهنت...  هرات   ذکور  \n",
       "5   347.562  دیپارتمنت سیول (ذکور) پوهنځی انجنیری پوهنتون کابل  کابل   ذکور  \n",
       "6   347.559  دیپارتمنت عمومی (ذکور) پوهنځی طب پوهنتون علوم ...  غزني   ذکور  \n",
       "7   347.383  دیپارتمنت عمومی (اناث) پوهنځی طب پوهنتون علوم ...  کابل   اناث  \n",
       "8   347.266  دیپارتمنت عمومی (ذکور) پوهنځی طب پوهنتون علوم ...  کابل   ذکور  \n",
       "9   346.078  دیپارتمنت عمومی (اناث) پوهنځی طب پوهنتون علوم ...   بلخ   اناث  "
      ]
     },
     "execution_count": 4,
     "metadata": {},
     "output_type": "execute_result"
    }
   ],
   "source": [
    "df.head(10)"
   ]
  },
  {
   "cell_type": "markdown",
   "id": "2a16de74",
   "metadata": {},
   "source": [
    "##### Total Number of participants in 2021 Examination"
   ]
  },
  {
   "cell_type": "code",
   "execution_count": 5,
   "id": "7da34add",
   "metadata": {},
   "outputs": [
    {
     "name": "stdout",
     "output_type": "stream",
     "text": [
      "The total number of kankor Examination participants of 2021 in Afghanistan:  179350\n"
     ]
    }
   ],
   "source": [
    "print(\"The total number of kankor Examination participants of 2021 in Afghanistan: \", len(df.index))"
   ]
  },
  {
   "cell_type": "markdown",
   "id": "2216ce83",
   "metadata": {},
   "source": [
    "##### Total Number of Female Participants"
   ]
  },
  {
   "cell_type": "code",
   "execution_count": 6,
   "id": "1acd30fb",
   "metadata": {},
   "outputs": [
    {
     "name": "stdout",
     "output_type": "stream",
     "text": [
      "The total number of female participants :  68479\n"
     ]
    }
   ],
   "source": [
    "print(\"The total number of female participants : \",df['Gender'].value_counts()[FemaleInPersion])"
   ]
  },
  {
   "cell_type": "markdown",
   "id": "94bfb32b",
   "metadata": {},
   "source": [
    "##### Total Number of Male Participants"
   ]
  },
  {
   "cell_type": "code",
   "execution_count": 7,
   "id": "db07611c",
   "metadata": {},
   "outputs": [
    {
     "name": "stdout",
     "output_type": "stream",
     "text": [
      "The total number of male participants :  110871\n"
     ]
    }
   ],
   "source": [
    "print(\"The total number of male participants : \",df['Gender'].value_counts()[MaleInPersion])"
   ]
  },
  {
   "cell_type": "markdown",
   "id": "36c2cad8",
   "metadata": {},
   "source": [
    "### Comparison of number of Male and Female Kankor Examination2021 participants in Afghanistan"
   ]
  },
  {
   "cell_type": "code",
   "execution_count": 8,
   "id": "482f3cca",
   "metadata": {},
   "outputs": [
    {
     "data": {
      "image/png": "[encoded data removed]",
      "text/plain": [
       "<Figure size 432x288 with 1 Axes>"
      ]
     },
     "metadata": {},
     "output_type": "display_data"
    }
   ],
   "source": [
    "male=df['Gender'].value_counts()[MaleInPersion]\n",
    "female=df['Gender'].value_counts()[FemaleInPersion]\n",
    "Cities = ['Male','Female']\n",
    "NumberOfparticipants = [male,female]\n",
    "my_circle = plot.Circle((0, 0), 0.7, color='white')\n",
    "plot.pie(NumberOfparticipants, labels=Cities, autopct='%1.1f%%',\n",
    "        colors=['blue','lightblue','Steelblue','slategrey','darkslateblue','cyan'])\n",
    "p = plot.gcf()\n",
    "p.gca().add_artist(my_circle)\n",
    "plot.show()"
   ]
  },
  {
   "cell_type": "markdown",
   "id": "701d0cea",
   "metadata": {},
   "source": [
    "### Total number of participants in each city"
   ]
  },
  {
   "cell_type": "code",
   "execution_count": 9,
   "id": "90cbbfac",
   "metadata": {},
   "outputs": [
    {
     "name": "stdout",
     "output_type": "stream",
     "text": [
      "Kabul 44895\n"
     ]
    }
   ],
   "source": [
    "#Cities in Afghanistan\n",
    "Kabul_participants= df['City'].value_counts()[Kabul]\n",
    "print(\"Kabul\",Kabul_participants)\n",
    "Kandahar_participants= df['City'].value_counts()[Kandahar]\n",
    "Herat_participants =df['City'].value_counts()[Herat]\n",
    "Balkh_participants=df['City'].value_counts()[Balkh]\n",
    "Kunduz_participants=df['City'].value_counts()[Kundoz]\n",
    "Nangarhar_participants=df['City'].value_counts()[Nangarhar]\n",
    "Takhar_participants=df['City'].value_counts()[Takhar]\n",
    "Baghlan_participants=df['City'].value_counts()[Baghlan]\n",
    "Parwan_participants=df['City'].value_counts()[Parwan]\n",
    "Helmand_participants=df['City'].value_counts()[Helmand]\n",
    "Jawozjan_participants=df['City'].value_counts()[Jawozjan]\n",
    "Ghazni_participants=df['City'].value_counts()[Ghazni]\n",
    "Khost__participants=df['City'].value_counts()[Khost]\n",
    "Sar_e_pol_participants=df['City'].value_counts()[SarEpol]\n",
    "Ghor__participants=df['City'].value_counts()[Ghor]\n",
    "Laghman_participants=df['City'].value_counts()[Laghman]\n",
    "Farah_participants=df['City'].value_counts()[Farah]\n",
    "Logar_participants=df['City'].value_counts()[Logar]\n",
    "Bamiyan_participants=df['City'].value_counts()[Bamiyan]\n",
    "Daikondi_participants=df['City'].value_counts()[Daikundi]\n",
    "Kapisa_participants=df['City'].value_counts()[Kapisa]\n",
    "maidan_wardak_participants=df['City'].value_counts()[MaidanWardak]\n",
    "faryab_participants=df['City'].value_counts()[Fariyab]\n",
    "Samangan_participants=df['City'].value_counts()[Samangan]\n",
    "Paktia_participants=df['City'].value_counts()[Paktia]\n",
    "Badakhshan_participants=df['City'].value_counts()[Badakhshan]\n",
    "Zabul_participants=df['City'].value_counts()[Zabul]\n",
    "Panjsher_participants=df['City'].value_counts()[Panjsher]\n",
    "Badghis_participants=df['City'].value_counts()[Badghis]\n",
    "nimroz_participants=df['City'].value_counts()[Nimroz]\n",
    "Paktika_participants=df['City'].value_counts()[Paktika]\n",
    "Konar_participants=df['City'].value_counts()[Konar]\n",
    "Orzgan_participants=df['City'].value_counts()[Urzogan]\n",
    "Nursatan_participants=df['City'].value_counts()[Nuristan]\n"
   ]
  },
  {
   "cell_type": "markdown",
   "id": "3104cb92",
   "metadata": {},
   "source": [
    "###  Below graph Analysis \n",
    "Now I am comparing the data with graph to show and compare each city's participants with kabul\n",
    "First graph is showing kabul participants being compared to big cities\n",
    "second graph is showing kabul particpants being compared to relatively smaller cities\n",
    "Thired graph is showing kabul participants being compared to cities which are more conservative \n",
    "I imported 'matplotlib.pyplot' to use the graph."
   ]
  },
  {
   "cell_type": "markdown",
   "id": "104c25a9",
   "metadata": {},
   "source": [
    "### Graph of participants  "
   ]
  },
  {
   "cell_type": "code",
   "execution_count": 10,
   "id": "a9fd51fa",
   "metadata": {},
   "outputs": [
    {
     "data": {
      "image/png": "[encoded data removed]",
      "text/plain": [
       "<Figure size 432x288 with 1 Axes>"
      ]
     },
     "metadata": {
      "needs_background": "light"
     },
     "output_type": "display_data"
    },
    {
     "data": {
      "image/png": "[encoded data removed]",
      "text/plain": [
       "<Figure size 432x288 with 1 Axes>"
      ]
     },
     "metadata": {
      "needs_background": "light"
     },
     "output_type": "display_data"
    },
    {
     "data": {
      "image/png": "[encoded data removed]",
      "text/plain": [
       "<Figure size 432x288 with 1 Axes>"
      ]
     },
     "metadata": {
      "needs_background": "light"
     },
     "output_type": "display_data"
    }
   ],
   "source": [
    "   \n",
    "data={\"Cities\":['Kabul', 'Kandahar', 'Herat','Balkh','Kundoz','Nangarhar','Takhar','Baghlan','Ghazni','Helmand','Badakhshan','Fariyab'],\n",
    "      \"Participants No\":[Kabul_participants,Kandahar_participants,Herat_participants,Balkh_participants,Kunduz_participants,Nangarhar_participants, \n",
    "                       Takhar_participants,Baghlan_participants,Ghazni_participants,Helmand_participants,Badakhshan_participants,faryab_participants]}\n",
    "df2=pd.DataFrame(data = data)\n",
    "df2.plot.bar(x='Cities', y=\"Participants No\", rot=70, title=\"Kabul participants' comparison to populated and big cities\");\n",
    "plot.show(block=True)  \n",
    "data={\"Cities\":['Kabul','Jawozjan','Parwan', 'Khost','SarEpol','Kapisa','Laghman','MaidanWardak','Logar','Bamiyan','Daikundi','Panjsher'],\n",
    "      \"Participants No\":[Kabul_participants,Jawozjan_participants,Parwan_participants,Khost__participants,Sar_e_pol_participants,Kapisa_participants,Laghman_participants, \n",
    "                       maidan_wardak_participants,Logar_participants,Bamiyan_participants,Daikondi_participants,Panjsher_participants]}\n",
    "df2=pd.DataFrame(data = data)\n",
    "df2.plot.bar(x='Cities', y=\"Participants No\", rot=70, title=\"Kabul's number of participants comparison to relatively smaller cities\");\n",
    "plot.show(block=True)   \n",
    "data={\"Cities\":['Kabul','Ghor','Farah','Samangan','Paktia','Zabul','Badghis','Nimroz','Paktika'\n",
    "         ,'Konar','Urzogan','Nuristan'],\n",
    "      \"Participants No\":[Kabul_participants,Ghor__participants,Farah_participants,Samangan_participants,Paktia_participants, \n",
    "                       Zabul_participants,Badghis_participants,nimroz_participants,Paktika_participants,Konar_participants,\n",
    "                        Orzgan_participants,Nursatan_participants]}\n",
    "df2=pd.DataFrame(data = data)\n",
    "df2.plot.bar(x='Cities', y=\"Participants No\", rot=70, title=\"Kabul's number of participants comparison to small and conservative cities\");\n",
    "plot.show(block=True)\n"
   ]
  },
  {
   "cell_type": "markdown",
   "id": "6715a0ad",
   "metadata": {},
   "source": [
    "#### Average of all participants result number"
   ]
  },
  {
   "cell_type": "code",
   "execution_count": 11,
   "id": "1f623bb6",
   "metadata": {},
   "outputs": [
    {
     "name": "stdout",
     "output_type": "stream",
     "text": [
      "191.93\n"
     ]
    }
   ],
   "source": [
    "Average = df['ResultNo'].mean()\n",
    "print(\"{:.2f}\".format(Average))"
   ]
  },
  {
   "cell_type": "markdown",
   "id": "ed65e2d8",
   "metadata": {},
   "source": [
    "### Males and Females participants comparison in five big cities "
   ]
  },
  {
   "cell_type": "code",
   "execution_count": 12,
   "id": "f8a379da",
   "metadata": {},
   "outputs": [
    {
     "data": {
      "image/png": "[encoded data removed]",
      "text/plain": [
       "<Figure size 432x288 with 1 Axes>"
      ]
     },
     "metadata": {},
     "output_type": "display_data"
    },
    {
     "name": "stdout",
     "output_type": "stream",
     "text": [
      "Kabul\n"
     ]
    },
    {
     "data": {
      "image/png": "[encoded data removed]",
      "text/plain": [
       "<Figure size 432x288 with 1 Axes>"
      ]
     },
     "metadata": {},
     "output_type": "display_data"
    },
    {
     "name": "stdout",
     "output_type": "stream",
     "text": [
      "Kandahar\n"
     ]
    },
    {
     "data": {
      "image/png": "[encoded data removed]",
      "text/plain": [
       "<Figure size 432x288 with 1 Axes>"
      ]
     },
     "metadata": {},
     "output_type": "display_data"
    },
    {
     "name": "stdout",
     "output_type": "stream",
     "text": [
      "Herat\n"
     ]
    },
    {
     "data": {
      "image/png": "[encoded data removed]",
      "text/plain": [
       "<Figure size 432x288 with 1 Axes>"
      ]
     },
     "metadata": {},
     "output_type": "display_data"
    },
    {
     "name": "stdout",
     "output_type": "stream",
     "text": [
      "Balkh\n"
     ]
    },
    {
     "data": {
      "image/png": "[encoded data removed]",
      "text/plain": [
       "<Figure size 432x288 with 1 Axes>"
      ]
     },
     "metadata": {},
     "output_type": "display_data"
    },
    {
     "name": "stdout",
     "output_type": "stream",
     "text": [
      "Kondoz\n"
     ]
    }
   ],
   "source": [
    "imale=((df['Gender']=='ذکور') & (df['City']=='کابل')).sum()\n",
    "ifemale=((df['Gender']=='اناث') & (df['City']=='کابل')).sum()\n",
    "Cities = ['Male','Female']\n",
    "NumberOfparticipants = [imale,ifemale]\n",
    "my_circle = plot.Circle((0, 0), 0.7, color='white')\n",
    "plot.pie(NumberOfparticipants, labels=Cities, autopct='%1.1f%%',\n",
    "        colors=['blue','lightblue','Steelblue','slategrey','darkslateblue','cyan'])\n",
    "p = plot.gcf()\n",
    "p.gca().add_artist(my_circle)\n",
    "plot.show()\n",
    "print(\"Kabul\")\n",
    "kmale=((df['Gender']=='ذکور') & (df['City']=='کندهار')).sum()\n",
    "kfemale=((df['Gender']=='اناث') & (df['City']=='کندهار')).sum()\n",
    "Cities = ['Male','Female']\n",
    "NumberOfparticipants = [kmale,kfemale]\n",
    "my_circle = plot.Circle((0, 0), 0.7, color='white')\n",
    "plot.pie(NumberOfparticipants, labels=Cities, autopct='%1.1f%%',\n",
    "        colors=['blue','lightblue','Steelblue','slategrey','darkslateblue','cyan'])\n",
    "p = plot.gcf()\n",
    "p.gca().add_artist(my_circle)\n",
    "plot.show()\n",
    "print(\"Kandahar\")\n",
    "hmale=((df['Gender']=='ذکور') & (df['City']=='هرات')).sum()\n",
    "hfemale=((df['Gender']=='اناث') & (df['City']=='هرات')).sum()\n",
    "Cities = ['Male','Female']\n",
    "NumberOfparticipants = [hmale,hfemale]\n",
    "my_circle = plot.Circle((0, 0), 0.7, color='white')\n",
    "plot.pie(NumberOfparticipants, labels=Cities, autopct='%1.1f%%',\n",
    "        colors=['blue','lightblue','Steelblue','slategrey','darkslateblue','cyan'])\n",
    "p = plot.gcf()\n",
    "p.gca().add_artist(my_circle)\n",
    "plot.show()\n",
    "print(\"Herat\")\n",
    "bmale=((df['Gender']=='ذکور') & (df['City']=='بلخ')).sum()\n",
    "bfemale=((df['Gender']=='اناث') & (df['City']=='بلخ')).sum()\n",
    "Cities = ['Male','Female']\n",
    "NumberOfparticipants = [bmale,bfemale]\n",
    "my_circle = plot.Circle((0, 0), 0.7, color='white')\n",
    "plot.pie(NumberOfparticipants, labels=Cities, autopct='%1.1f%%',\n",
    "        colors=['blue','lightblue','Steelblue','slategrey','darkslateblue','cyan'])\n",
    "p = plot.gcf()\n",
    "p.gca().add_artist(my_circle)\n",
    "plot.show()\n",
    "print(\"Balkh\")\n",
    "omale=((df['Gender']=='ذکور') & (df['City']=='کندز')).sum()\n",
    "ofemale=((df['Gender']=='اناث') & (df['City']=='کندز')).sum()\n",
    "Cities = ['Male','Female']\n",
    "NumberOfparticipants = [omale,ofemale]\n",
    "my_circle = plot.Circle((0, 0), 0.7, color='white')\n",
    "plot.pie(NumberOfparticipants, labels=Cities, autopct='%1.1f%%',\n",
    "        colors=['blue','lightblue','Steelblue','slategrey','darkslateblue','cyan'])\n",
    "p = plot.gcf()\n",
    "p.gca().add_artist(my_circle)\n",
    "plot.show()\n",
    "print(\"Kondoz\")\n",
    "\n"
   ]
  },
  {
   "cell_type": "markdown",
   "id": "41c07436",
   "metadata": {},
   "source": [
    "### (5) Analysis Result\n",
    "if we take number of participants and the number of participants of each gender in 5 cities.\n",
    "The number of gender in each city is being calculated by .value_counts and the the gender in 5 cities is being calculated as if the participant is in a specified city take and specified gender take all data and print out the total number of participants.\n",
    "Graphs is being graphed using dictionary data collection and Average is being print out using mean method\n"
   ]
  },
  {
   "cell_type": "markdown",
   "id": "f56c4487",
   "metadata": {},
   "source": [
    "### (6) Conclusion\n",
    "By taking the number of participants we find out that Kabul has the most participants among all cities around Afghanistan.\n",
    "By finding the specific gender quantity in big cities, It gives that participation of each gender is differnet and most importantly participation in the Exam has direct proportion to the citie's conservativeness as of Kandahar city which is the biggest city after kabul but again has less participation. \n",
    "The more libral the city the more participants, as of Herat and Balkh which has more participants of girls than boys which is so rare to see in other cities.\n",
    "Girls have less participation than boys in almost every cities except Herat and Balkh."
   ]
  },
  {
   "cell_type": "markdown",
   "id": "9e22780e",
   "metadata": {},
   "source": [
    "### (7) Reference \n",
    "jupyter usage and pandas learning websites\n",
    "https://www.w3schools.com/python/pandas/default.asp\n",
    "https://www.dataquest.io/blog/jupyter-notebook-tutorial/\n",
    "https://www.youtube.com/watch?v=ZyhVh-qRZPA&list=PL-osiE80TeTsWmV9i9c58mdDCSskIFdDS\n",
    "matplotlib graph \n",
    "https://www.w3schools.com/python/matplotlib_bars.asp\n",
    "https://www.geeksforgeeks.org/donut-chart-using-matplotlib-in-python/\n",
    "dataset website\n",
    "https://kankorafghanistanexcel.blogspot.com/"
   ]
  },
  {
   "cell_type": "markdown",
   "id": "e5ce3a38",
   "metadata": {},
   "source": [
    "### (8) Attachment\n",
    "https://kankorafghanistanexcel.blogspot.com/"
   ]
  },
  {
   "cell_type": "markdown",
   "id": "15cdefd0",
   "metadata": {},
   "source": [
    "### (9) Appendix\n",
    "processed data source and data discription source\n",
    "https://www.citypopulation.de/en/afghanistan/cities/\n",
    "https://kankorafghanistan.com/\n",
    "https://kankorafghanistanexcel.blogspot.com/\n"
   ]
  },
  {
   "cell_type": "markdown",
   "id": "04bbad49",
   "metadata": {},
   "source": [
    "### (10) Attachment \n",
    "```python\n",
    "import matplotlib\n",
    "import pandas as pd\n",
    "import matplotlib.pyplot as plot\n",
    "col_names=[\n",
    "    'ID','Name','Father Name','Grandfather Name','School', 'ResultNo', 'AcceptedUniversity','City','Gender'\n",
    "]\n",
    "#graphs and extracted data from dataset\n",
    "male=df['Gender'].value_counts()[MaleInPersion]\n",
    "female=df['Gender'].value_counts()[FemaleInPersion]\n",
    "Cities = ['Male','Female']\n",
    "NumberOfparticipants = [male,female]\n",
    "my_circle = plot.Circle((0, 0), 0.7, color='white')\n",
    "plot.pie(NumberOfparticipants, labels=Cities, autopct='%1.1f%%',\n",
    "        colors=['blue','lightblue','Steelblue','slategrey','darkslateblue','cyan'])\n",
    "p = plot.gcf()\n",
    "p.gca().add_artist(my_circle)\n",
    "plot.show()\n",
    "\n",
    "#bar chart (graph)\n",
    "   \n",
    "data={\"Cities\":['Kabul', 'Kandahar', 'Herat','Balkh','Kundoz','Nangarhar','Takhar','Baghlan','Ghazni','Helmand','Badakhshan','Fariyab'],\n",
    "      \"Participants No\":[Kabul_participants,Kandahar_participants,Herat_participants,Balkh_participants,Kunduz_participants,Nangarhar_participants, \n",
    "                       Takhar_participants,Baghlan_participants,Ghazni_participants,Helmand_participants,Badakhshan_participants,faryab_participants]}\n",
    "df2=pd.DataFrame(data = data)\n",
    "df2.plot.bar(x='Cities', y=\"Participants No\", rot=70, title=\"Kabul participants' comparison to populated and big cities\");\n",
    "plot.show(block=True) \n",
    "\n",
    "#average \n",
    "Average = df['ResultNo'].mean()\n",
    "print(\"{:.2f}\".format(Average))\n",
    "\n",
    "#two columns data taking \n",
    "imale=((df['Gender']=='ذکور') & (df['City']=='کابل')).sum()\n",
    "ifemale=((df['Gender']=='اناث') & (df['City']=='کابل')).sum()\n",
    "Cities = ['Male','Female']\n",
    "NumberOfparticipants = [imale,ifemale]\n",
    "my_circle = plot.Circle((0, 0), 0.7, color='white')\n",
    "plot.pie(NumberOfparticipants, labels=Cities, autopct='%1.1f%%',\n",
    "        colors=['blue','lightblue','Steelblue','slategrey','darkslateblue','cyan'])\n",
    "p = plot.gcf()\n",
    "p.gca().add_artist(my_circle)\n",
    "\n",
    "```"
   ]
  }
 ],
 "metadata": {
  "kernelspec": {
   "display_name": "Python 3 (ipykernel)",
   "language": "python",
   "name": "python3"
  },
  "language_info": {
   "codemirror_mode": {
    "name": "ipython",
    "version": 3
   },
   "file_extension": ".py",
   "mimetype": "text/x-python",
   "name": "python",
   "nbconvert_exporter": "python",
   "pygments_lexer": "ipython3",
   "version": "3.10.2"
  }
 },
 "nbformat": 4,
 "nbformat_minor": 5
}
